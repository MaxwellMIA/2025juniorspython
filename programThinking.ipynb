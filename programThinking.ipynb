{
 "cells": [
  {
   "cell_type": "markdown",
   "id": "d9fbb5dd",
   "metadata": {},
   "source": [
    "# programmatic thinking"
   ]
  },
  {
   "cell_type": "markdown",
   "id": "b6acaaee",
   "metadata": {},
   "source": [
    "## 1.1 Arithmetic operators"
   ]
  },
  {
   "cell_type": "markdown",
   "id": "78530af3",
   "metadata": {},
   "source": [
    "<font color=\"purple\">Arithmetic operator</font> - Symbols that represent an arithmetic operation. + - / * ** //"
   ]
  },
  {
   "cell_type": "code",
   "execution_count": null,
   "id": "4757822f",
   "metadata": {},
   "outputs": [
    {
     "data": {
      "text/plain": [
       "42"
      ]
     },
     "execution_count": 1,
     "metadata": {},
     "output_type": "execute_result"
    }
   ],
   "source": [
    "30 + 12"
   ]
  },
  {
   "cell_type": "code",
   "execution_count": 2,
   "id": "61b64c4c",
   "metadata": {},
   "outputs": [
    {
     "data": {
      "text/plain": [
       "42"
      ]
     },
     "execution_count": 2,
     "metadata": {},
     "output_type": "execute_result"
    }
   ],
   "source": [
    "43 - 1"
   ]
  },
  {
   "cell_type": "code",
   "execution_count": 3,
   "id": "0827ad57",
   "metadata": {},
   "outputs": [
    {
     "data": {
      "text/plain": [
       "42"
      ]
     },
     "execution_count": 3,
     "metadata": {},
     "output_type": "execute_result"
    }
   ],
   "source": [
    "6 * 7"
   ]
  },
  {
   "cell_type": "code",
   "execution_count": 4,
   "id": "831dfa1a",
   "metadata": {},
   "outputs": [
    {
     "data": {
      "text/plain": [
       "42.0"
      ]
     },
     "execution_count": 4,
     "metadata": {},
     "output_type": "execute_result"
    }
   ],
   "source": [
    "84 / 2"
   ]
  },
  {
   "cell_type": "markdown",
   "id": "42d79b50",
   "metadata": {},
   "source": [
    "<b>integers</b> - represents numbers with no fractional or decimal part\n",
    "\n",
    "<b>floating-point numbers</b> represents integers and numbers with a decimal point"
   ]
  },
  {
   "cell_type": "code",
   "execution_count": 10,
   "id": "c4ad5400",
   "metadata": {},
   "outputs": [
    {
     "data": {
      "text/plain": [
       "42"
      ]
     },
     "execution_count": 10,
     "metadata": {},
     "output_type": "execute_result"
    }
   ],
   "source": [
    "84 // 2 #floor division (interger division) - it divides and only gives you the numbers before the decimal"
   ]
  },
  {
   "cell_type": "code",
   "execution_count": 9,
   "id": "1ed4c132",
   "metadata": {},
   "outputs": [
    {
     "data": {
      "text/plain": [
       "42"
      ]
     },
     "execution_count": 9,
     "metadata": {},
     "output_type": "execute_result"
    }
   ],
   "source": [
    "85 // 2"
   ]
  },
  {
   "cell_type": "code",
   "execution_count": 11,
   "id": "8b2c3ab8",
   "metadata": {},
   "outputs": [],
   "source": [
    "# exponents - when you raise a number to a power of another number"
   ]
  },
  {
   "cell_type": "code",
   "execution_count": 12,
   "id": "c42e910b",
   "metadata": {},
   "outputs": [
    {
     "data": {
      "text/plain": [
       "49"
      ]
     },
     "execution_count": 12,
     "metadata": {},
     "output_type": "execute_result"
    }
   ],
   "source": [
    "7 ** 2"
   ]
  },
  {
   "cell_type": "code",
   "execution_count": 13,
   "id": "91226146",
   "metadata": {},
   "outputs": [
    {
     "data": {
      "text/plain": [
       "129.64181424216494"
      ]
     },
     "execution_count": 13,
     "metadata": {},
     "output_type": "execute_result"
    }
   ],
   "source": [
    "7 ** 2.5"
   ]
  },
  {
   "cell_type": "code",
   "execution_count": null,
   "id": "9601db6a",
   "metadata": {},
   "outputs": [],
   "source": [
    "# 7 ^ 2 - in some languages you use a carrot for exponents Hai :3"
   ]
  },
  {
   "cell_type": "markdown",
   "id": "d76c9cb4",
   "metadata": {},
   "source": [
    "## 1.2 expressions"
   ]
  },
  {
   "cell_type": "markdown",
   "id": "ba4ca0d8",
   "metadata": {},
   "source": [
    "<b>expression</b> collection of operators and numbers"
   ]
  },
  {
   "cell_type": "code",
   "execution_count": 18,
   "id": "9dd921ca",
   "metadata": {},
   "outputs": [
    {
     "data": {
      "text/plain": [
       "42"
      ]
     },
     "execution_count": 18,
     "metadata": {},
     "output_type": "execute_result"
    }
   ],
   "source": [
    "6 + 6 ** 2"
   ]
  },
  {
   "cell_type": "code",
   "execution_count": 19,
   "id": "50e1350a",
   "metadata": {},
   "outputs": [
    {
     "data": {
      "text/plain": [
       "42"
      ]
     },
     "execution_count": 19,
     "metadata": {},
     "output_type": "execute_result"
    }
   ],
   "source": [
    "12 + 5 * 6"
   ]
  },
  {
   "cell_type": "code",
   "execution_count": 20,
   "id": "b62ef907",
   "metadata": {},
   "outputs": [
    {
     "data": {
      "text/plain": [
       "102"
      ]
     },
     "execution_count": 20,
     "metadata": {},
     "output_type": "execute_result"
    }
   ],
   "source": [
    "(12 + 5) * 6"
   ]
  },
  {
   "cell_type": "markdown",
   "id": "48fa50b9",
   "metadata": {},
   "source": [
    "## 1.3 arithmetic functions"
   ]
  },
  {
   "cell_type": "code",
   "execution_count": 21,
   "id": "5aae8066",
   "metadata": {},
   "outputs": [
    {
     "data": {
      "text/plain": [
       "42"
      ]
     },
     "execution_count": 21,
     "metadata": {},
     "output_type": "execute_result"
    }
   ],
   "source": [
    "round(42.4) # rounds the number"
   ]
  },
  {
   "cell_type": "code",
   "execution_count": 22,
   "id": "fec0602c",
   "metadata": {},
   "outputs": [
    {
     "data": {
      "text/plain": [
       "42"
      ]
     },
     "execution_count": 22,
     "metadata": {},
     "output_type": "execute_result"
    }
   ],
   "source": [
    "round(41.6)"
   ]
  },
  {
   "cell_type": "code",
   "execution_count": 23,
   "id": "42c647d5",
   "metadata": {},
   "outputs": [
    {
     "data": {
      "text/plain": [
       "42"
      ]
     },
     "execution_count": 23,
     "metadata": {},
     "output_type": "execute_result"
    }
   ],
   "source": [
    "round(41.5)"
   ]
  },
  {
   "cell_type": "code",
   "execution_count": 24,
   "id": "4ee4cd2d",
   "metadata": {},
   "outputs": [
    {
     "data": {
      "text/plain": [
       "42"
      ]
     },
     "execution_count": 24,
     "metadata": {},
     "output_type": "execute_result"
    }
   ],
   "source": [
    "# the abs function - computers the absolute vaule of a number\n",
    "abs(42)"
   ]
  },
  {
   "cell_type": "code",
   "execution_count": 25,
   "id": "13fa6ef0",
   "metadata": {},
   "outputs": [
    {
     "data": {
      "text/plain": [
       "42"
      ]
     },
     "execution_count": 25,
     "metadata": {},
     "output_type": "execute_result"
    }
   ],
   "source": [
    "abs(-42)"
   ]
  },
  {
   "cell_type": "code",
   "execution_count": 26,
   "id": "42edde46",
   "metadata": {},
   "outputs": [
    {
     "ename": "SyntaxError",
     "evalue": "invalid syntax (816474439.py, line 1)",
     "output_type": "error",
     "traceback": [
      "  \u001b[36mCell\u001b[39m\u001b[36m \u001b[39m\u001b[32mIn[26]\u001b[39m\u001b[32m, line 1\u001b[39m\n\u001b[31m    \u001b[39m\u001b[31mabs 42\u001b[39m\n        ^\n\u001b[31mSyntaxError\u001b[39m\u001b[31m:\u001b[39m invalid syntax\n"
     ]
    }
   ],
   "source": [
    "abs 42"
   ]
  },
  {
   "cell_type": "markdown",
   "id": "759a1bed",
   "metadata": {},
   "source": [
    "## 1.4 Strings"
   ]
  },
  {
   "cell_type": "markdown",
   "id": "5ea3c4cb",
   "metadata": {},
   "source": [
    "<b>strings</b> - in python or any other programming language, strings represent a sequnece of charaters contained in quotes (single or double)"
   ]
  },
  {
   "cell_type": "code",
   "execution_count": 30,
   "id": "95c40a7b",
   "metadata": {},
   "outputs": [
    {
     "data": {
      "text/plain": [
       "'hello'"
      ]
     },
     "execution_count": 30,
     "metadata": {},
     "output_type": "execute_result"
    }
   ],
   "source": [
    "'hello' # single quotes"
   ]
  },
  {
   "cell_type": "code",
   "execution_count": 29,
   "id": "581f5f0a",
   "metadata": {},
   "outputs": [
    {
     "data": {
      "text/plain": [
       "'world'"
      ]
     },
     "execution_count": 29,
     "metadata": {},
     "output_type": "execute_result"
    }
   ],
   "source": [
    "\"world\" # double quotes"
   ]
  },
  {
   "cell_type": "code",
   "execution_count": 31,
   "id": "63c9ffd7",
   "metadata": {},
   "outputs": [
    {
     "ename": "SyntaxError",
     "evalue": "unterminated string literal (detected at line 1) (3260505140.py, line 1)",
     "output_type": "error",
     "traceback": [
      "  \u001b[36mCell\u001b[39m\u001b[36m \u001b[39m\u001b[32mIn[31]\u001b[39m\u001b[32m, line 1\u001b[39m\n\u001b[31m    \u001b[39m\u001b[31m\"hello world'\u001b[39m\n    ^\n\u001b[31mSyntaxError\u001b[39m\u001b[31m:\u001b[39m unterminated string literal (detected at line 1)\n"
     ]
    }
   ],
   "source": [
    "\"hello world'"
   ]
  },
  {
   "cell_type": "code",
   "execution_count": 32,
   "id": "d2de0147",
   "metadata": {},
   "outputs": [
    {
     "data": {
      "text/plain": [
       "\"it's a small world\""
      ]
     },
     "execution_count": 32,
     "metadata": {},
     "output_type": "execute_result"
    }
   ],
   "source": [
    "\"it's a small world\""
   ]
  },
  {
   "cell_type": "code",
   "execution_count": 33,
   "id": "182a370d",
   "metadata": {},
   "outputs": [
    {
     "data": {
      "text/plain": [
       "\"it's a small world\""
      ]
     },
     "execution_count": 33,
     "metadata": {},
     "output_type": "execute_result"
    }
   ],
   "source": [
    "'it\\'s a small world'"
   ]
  },
  {
   "cell_type": "markdown",
   "id": "4d62e01d",
   "metadata": {},
   "source": [
    "### + operator with strings: \n",
    "\n",
    "<b>concatination</b> - taking muliple strings and putting them together"
   ]
  },
  {
   "cell_type": "code",
   "execution_count": 35,
   "id": "861bdbbb",
   "metadata": {},
   "outputs": [
    {
     "data": {
      "text/plain": [
       "\"well, it's a small world\""
      ]
     },
     "execution_count": 35,
     "metadata": {},
     "output_type": "execute_result"
    }
   ],
   "source": [
    "'well, ' + \"it's a small \" + 'world'"
   ]
  },
  {
   "cell_type": "markdown",
   "id": "f44318de",
   "metadata": {},
   "source": [
    "### * operator with strings\n",
    "\n",
    "makes multiple copies of string and concationates them together"
   ]
  },
  {
   "cell_type": "code",
   "execution_count": 36,
   "id": "02cb440b",
   "metadata": {},
   "outputs": [
    {
     "data": {
      "text/plain": [
       "'spam, spam, spam, spam, '"
      ]
     },
     "execution_count": 36,
     "metadata": {},
     "output_type": "execute_result"
    }
   ],
   "source": [
    "'spam, ' * 4"
   ]
  },
  {
   "cell_type": "markdown",
   "id": "29bb507c",
   "metadata": {},
   "source": [
    "### string functions"
   ]
  },
  {
   "cell_type": "code",
   "execution_count": 38,
   "id": "726bf364",
   "metadata": {},
   "outputs": [
    {
     "data": {
      "text/plain": [
       "4"
      ]
     },
     "execution_count": 38,
     "metadata": {},
     "output_type": "execute_result"
    }
   ],
   "source": [
    "len('spam')"
   ]
  },
  {
   "cell_type": "code",
   "execution_count": null,
   "id": "bb24857f",
   "metadata": {},
   "outputs": [
    {
     "ename": "SyntaxError",
     "evalue": "invalid syntax (1123291945.py, line 1)",
     "output_type": "error",
     "traceback": [
      "  \u001b[36mCell\u001b[39m\u001b[36m \u001b[39m\u001b[32mIn[39]\u001b[39m\u001b[32m, line 1\u001b[39m\n\u001b[31m    \u001b[39m\u001b[31m`hello`\u001b[39m\n    ^\n\u001b[31mSyntaxError\u001b[39m\u001b[31m:\u001b[39m invalid syntax\n"
     ]
    }
   ],
   "source": [
    "`Hello`"
   ]
  },
  {
   "cell_type": "markdown",
   "id": "f8929973",
   "metadata": {
    "vscode": {
     "languageId": "bat"
    }
   },
   "source": [
    "## 1.5 vaules and types"
   ]
  },
  {
   "cell_type": "code",
   "execution_count": null,
   "id": "bfbfca6b",
   "metadata": {},
   "outputs": [],
   "source": []
  },
  {
   "cell_type": "markdown",
   "id": "a4302c67",
   "metadata": {},
   "source": [
    "multiple tytpe of data\n",
    "* interger\n",
    "* floats\n",
    "* strings\n",
    "* boolean\n",
    "* null\n",
    "\n",
    "<b>type</b> - what kind of vaule is the data that we are using. vaules can belong to a type of data"
   ]
  },
  {
   "cell_type": "code",
   "execution_count": 7,
   "id": "bc12ef3b",
   "metadata": {},
   "outputs": [
    {
     "data": {
      "text/plain": [
       "int"
      ]
     },
     "execution_count": 7,
     "metadata": {},
     "output_type": "execute_result"
    }
   ],
   "source": [
    "#python type function\n",
    "\n",
    "type(2)"
   ]
  },
  {
   "cell_type": "code",
   "execution_count": 8,
   "id": "422a0850",
   "metadata": {},
   "outputs": [
    {
     "data": {
      "text/plain": [
       "float"
      ]
     },
     "execution_count": 8,
     "metadata": {},
     "output_type": "execute_result"
    }
   ],
   "source": [
    "type(3.4)"
   ]
  },
  {
   "cell_type": "code",
   "execution_count": 9,
   "id": "01f25047",
   "metadata": {},
   "outputs": [
    {
     "data": {
      "text/plain": [
       "bool"
      ]
     },
     "execution_count": 9,
     "metadata": {},
     "output_type": "execute_result"
    }
   ],
   "source": [
    "type(True)"
   ]
  },
  {
   "cell_type": "code",
   "execution_count": 10,
   "id": "5ef9015e",
   "metadata": {},
   "outputs": [
    {
     "data": {
      "text/plain": [
       "str"
      ]
     },
     "execution_count": 10,
     "metadata": {},
     "output_type": "execute_result"
    }
   ],
   "source": [
    "type(\"elijahs hiarcut\")"
   ]
  },
  {
   "cell_type": "code",
   "execution_count": 11,
   "id": "4fc1d57a",
   "metadata": {},
   "outputs": [
    {
     "data": {
      "text/plain": [
       "42"
      ]
     },
     "execution_count": 11,
     "metadata": {},
     "output_type": "execute_result"
    }
   ],
   "source": [
    "int(42.9)"
   ]
  },
  {
   "cell_type": "code",
   "execution_count": 12,
   "id": "4ba561fb",
   "metadata": {},
   "outputs": [
    {
     "data": {
      "text/plain": [
       "42.0"
      ]
     },
     "execution_count": 12,
     "metadata": {},
     "output_type": "execute_result"
    }
   ],
   "source": [
    "float(42)"
   ]
  },
  {
   "cell_type": "code",
   "execution_count": 13,
   "id": "04e528d0",
   "metadata": {},
   "outputs": [
    {
     "data": {
      "text/plain": [
       "'24'"
      ]
     },
     "execution_count": 13,
     "metadata": {},
     "output_type": "execute_result"
    }
   ],
   "source": [
    "str(24)"
   ]
  },
  {
   "cell_type": "code",
   "execution_count": 15,
   "id": "dbe617f0",
   "metadata": {},
   "outputs": [
    {
     "data": {
      "text/plain": [
       "'425'"
      ]
     },
     "execution_count": 15,
     "metadata": {},
     "output_type": "execute_result"
    }
   ],
   "source": [
    "'42' + '5'"
   ]
  },
  {
   "cell_type": "code",
   "execution_count": 16,
   "id": "396ebccc",
   "metadata": {},
   "outputs": [
    {
     "ename": "TypeError",
     "evalue": "unsupported operand type(s) for /: 'str' and 'int'",
     "output_type": "error",
     "traceback": [
      "\u001b[31m---------------------------------------------------------------------------\u001b[39m",
      "\u001b[31mTypeError\u001b[39m                                 Traceback (most recent call last)",
      "\u001b[36mCell\u001b[39m\u001b[36m \u001b[39m\u001b[32mIn[16]\u001b[39m\u001b[32m, line 1\u001b[39m\n\u001b[32m----> \u001b[39m\u001b[32m1\u001b[39m \u001b[33;43m\"\u001b[39;49m\u001b[33;43m126\u001b[39;49m\u001b[33;43m\"\u001b[39;49m\u001b[43m \u001b[49m\u001b[43m/\u001b[49m\u001b[43m \u001b[49m\u001b[32;43m3\u001b[39;49m\n",
      "\u001b[31mTypeError\u001b[39m: unsupported operand type(s) for /: 'str' and 'int'"
     ]
    }
   ],
   "source": [
    "\"126\" / 3"
   ]
  },
  {
   "cell_type": "code",
   "execution_count": 18,
   "id": "aa12c341",
   "metadata": {},
   "outputs": [
    {
     "data": {
      "text/plain": [
       "42.0"
      ]
     },
     "execution_count": 18,
     "metadata": {},
     "output_type": "execute_result"
    }
   ],
   "source": [
    "int(\"126\") / 3"
   ]
  },
  {
   "cell_type": "code",
   "execution_count": 21,
   "id": "cf0db695",
   "metadata": {},
   "outputs": [
    {
     "ename": "TypeError",
     "evalue": "unsupported operand type(s) for -: 'int' and 'str'",
     "output_type": "error",
     "traceback": [
      "\u001b[31m---------------------------------------------------------------------------\u001b[39m",
      "\u001b[31mTypeError\u001b[39m                                 Traceback (most recent call last)",
      "\u001b[36mCell\u001b[39m\u001b[36m \u001b[39m\u001b[32mIn[21]\u001b[39m\u001b[32m, line 3\u001b[39m\n\u001b[32m      1\u001b[39m age = \u001b[38;5;28minput\u001b[39m(\u001b[33m\"\u001b[39m\u001b[33mplease eneter your age\u001b[39m\u001b[33m\"\u001b[39m)\n\u001b[32m----> \u001b[39m\u001b[32m3\u001b[39m birthYear = \u001b[32;43m2025\u001b[39;49m\u001b[43m \u001b[49m\u001b[43m-\u001b[49m\u001b[43m \u001b[49m\u001b[43mage\u001b[49m\n\u001b[32m      4\u001b[39m \u001b[38;5;28mprint\u001b[39m(birthYear)\n",
      "\u001b[31mTypeError\u001b[39m: unsupported operand type(s) for -: 'int' and 'str'"
     ]
    }
   ],
   "source": [
    "age = input(\"please eneter your age\") \n",
    "#all data collected from an input statment is always a string\n",
    "\n",
    "birthYear = 2025 - age\n",
    "print(birthYear)"
   ]
  },
  {
   "cell_type": "code",
   "execution_count": 25,
   "id": "86aa0720",
   "metadata": {},
   "outputs": [
    {
     "name": "stdout",
     "output_type": "stream",
     "text": [
      "2016\n"
     ]
    }
   ],
   "source": [
    "age = int(input(\"please eneter your age\")) \n",
    "\n",
    "birthYear = 2025 - age\n",
    "print(birthYear)"
   ]
  },
  {
   "cell_type": "code",
   "execution_count": 26,
   "id": "d02131e6",
   "metadata": {},
   "outputs": [
    {
     "data": {
      "text/plain": [
       "(1, 0, 0)"
      ]
     },
     "execution_count": 26,
     "metadata": {},
     "output_type": "execute_result"
    }
   ],
   "source": [
    "1,000,000"
   ]
  },
  {
   "cell_type": "code",
   "execution_count": 27,
   "id": "b26b2bb2",
   "metadata": {},
   "outputs": [
    {
     "data": {
      "text/plain": [
       "1000000"
      ]
     },
     "execution_count": 27,
     "metadata": {},
     "output_type": "execute_result"
    }
   ],
   "source": [
    "1000000"
   ]
  },
  {
   "cell_type": "code",
   "execution_count": 28,
   "id": "161d3c6b",
   "metadata": {},
   "outputs": [
    {
     "ename": "SyntaxError",
     "evalue": "invalid syntax (1797962719.py, line 1)",
     "output_type": "error",
     "traceback": [
      "  \u001b[36mCell\u001b[39m\u001b[36m \u001b[39m\u001b[32mIn[28]\u001b[39m\u001b[32m, line 1\u001b[39m\n\u001b[31m    \u001b[39m\u001b[31m1.000.000\u001b[39m\n         ^\n\u001b[31mSyntaxError\u001b[39m\u001b[31m:\u001b[39m invalid syntax\n"
     ]
    }
   ],
   "source": [
    "1.000.000"
   ]
  },
  {
   "cell_type": "code",
   "execution_count": 29,
   "id": "7934a6b2",
   "metadata": {},
   "outputs": [
    {
     "data": {
      "text/plain": [
       "1024"
      ]
     },
     "execution_count": 29,
     "metadata": {},
     "output_type": "execute_result"
    }
   ],
   "source": [
    "1024"
   ]
  },
  {
   "cell_type": "code",
   "execution_count": 35,
   "id": "6284b89f",
   "metadata": {},
   "outputs": [
    {
     "data": {
      "text/plain": [
       "42"
      ]
     },
     "execution_count": 35,
     "metadata": {},
     "output_type": "execute_result"
    }
   ],
   "source": [
    "round(42.5)"
   ]
  },
  {
   "cell_type": "markdown",
   "id": "dd65bc2a",
   "metadata": {},
   "source": [
    "## 1.9.5 exrsice"
   ]
  },
  {
   "cell_type": "markdown",
   "id": "46bedc28",
   "metadata": {},
   "source": [
    "the following qustions give you a chanch to pratcite writing arithmethic expressions\n",
    "\n",
    "1. how many seconds are there in 42 minutes 42 seconds\n",
    "2. how man miles are there in 10 kilometers. Hint there are 1.61 kilometeres in a mile\n",
    "3. if you run a 10 kilometer race in 42 minutes, 42 seconds, what is your aviger pace in seconds per mile.\n",
    "4. what is your avirge pace in minutes and seconds pur mile.\n",
    "5. what is your avirge speed in miles per hour."
   ]
  },
  {
   "cell_type": "code",
   "execution_count": 47,
   "id": "89296ce9",
   "metadata": {},
   "outputs": [
    {
     "name": "stdout",
     "output_type": "stream",
     "text": [
      "2562 seconds in 42 minutes, 42 seconds\n"
     ]
    }
   ],
   "source": [
    "# 1. how many seconds are there in 42 minutes, 42 seconds\n",
    "seconds = 42 * 60\n",
    "tot_secs = seconds + 42\n",
    "print (str(tot_secs) + \" seconds in 42 minutes, 42 seconds\")"
   ]
  },
  {
   "cell_type": "code",
   "execution_count": 48,
   "id": "9fe913b0",
   "metadata": {},
   "outputs": [
    {
     "name": "stdout",
     "output_type": "stream",
     "text": [
      "6.21\n"
     ]
    }
   ],
   "source": [
    "# 2. how man miles are there in 10 kilometers. Hint: there are 1.61 kilometeres in a mile\n",
    "miles = round(10 / 1.61, 2)\n",
    "print (miles)"
   ]
  },
  {
   "cell_type": "code",
   "execution_count": 51,
   "id": "12ecaa01",
   "metadata": {},
   "outputs": [
    {
     "name": "stdout",
     "output_type": "stream",
     "text": [
      "412.56 seconds per mile\n"
     ]
    }
   ],
   "source": [
    "# 3. if you run a 10 kilometer race in 42 minutes, 42 seconds, what is your aviger pace in seconds per mile.\n",
    "secsPerMile = tot_secs / miles\n",
    "print(round(secsPerMile, 2), \"seconds per mile\")"
   ]
  },
  {
   "cell_type": "code",
   "execution_count": 54,
   "id": "657a2fca",
   "metadata": {},
   "outputs": [
    {
     "name": "stdout",
     "output_type": "stream",
     "text": [
      "6.88 is the pace per mile\n"
     ]
    }
   ],
   "source": [
    "#4. what is your avirge pace in minutes and seconds per mile\n",
    "avg_pace = secsPerMile / 60\n",
    "print(round(avg_pace, 2), \"is the pace per mile\")"
   ]
  },
  {
   "cell_type": "code",
   "execution_count": 59,
   "id": "bc2f2a1b",
   "metadata": {},
   "outputs": [
    {
     "name": "stdout",
     "output_type": "stream",
     "text": [
      "0.11460010735373055\n"
     ]
    }
   ],
   "source": [
    "#5. what is your avirge speed in miles per hour.\n",
    "avg_mph = (avg_pace / 60)\n",
    "print (avg_mph)"
   ]
  },
  {
   "cell_type": "code",
   "execution_count": 64,
   "id": "3fb74b9e",
   "metadata": {},
   "outputs": [
    {
     "name": "stdout",
     "output_type": "stream",
     "text": [
      "avgerive speed (mph): 8.73\n"
     ]
    }
   ],
   "source": [
    "hours = tot_secs / 3600 #converts time to hours\n",
    "avg_speed_mph = miles / hours\n",
    "\n",
    "print(\"avgerive speed (mph):\", round(avg_speed_mph, 2))"
   ]
  }
 ],
 "metadata": {
  "kernelspec": {
   "display_name": "Python 3",
   "language": "python",
   "name": "python3"
  },
  "language_info": {
   "codemirror_mode": {
    "name": "ipython",
    "version": 3
   },
   "file_extension": ".py",
   "mimetype": "text/x-python",
   "name": "python",
   "nbconvert_exporter": "python",
   "pygments_lexer": "ipython3",
   "version": "3.12.1"
  }
 },
 "nbformat": 4,
 "nbformat_minor": 5
}
