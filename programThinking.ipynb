{
 "cells": [
  {
   "cell_type": "markdown",
   "id": "d9fbb5dd",
   "metadata": {},
   "source": [
    "# programmatic thinking"
   ]
  },
  {
   "cell_type": "markdown",
   "id": "b6acaaee",
   "metadata": {},
   "source": [
    "## 1.1 Arithmetic operators\n",
    "\n",
    "<font color=\"purple\">Arithmetic operator</font> - Symbols that represent an arithmetic operation. + - / * ** //"
   ]
  },
  {
   "cell_type": "code",
   "execution_count": null,
   "id": "4757822f",
   "metadata": {},
   "outputs": [
    {
     "data": {
      "text/plain": [
       "42"
      ]
     },
     "execution_count": 1,
     "metadata": {},
     "output_type": "execute_result"
    }
   ],
   "source": [
    "30 + 12"
   ]
  },
  {
   "cell_type": "code",
   "execution_count": 2,
   "id": "61b64c4c",
   "metadata": {},
   "outputs": [
    {
     "data": {
      "text/plain": [
       "42"
      ]
     },
     "execution_count": 2,
     "metadata": {},
     "output_type": "execute_result"
    }
   ],
   "source": [
    "43 - 1"
   ]
  },
  {
   "cell_type": "code",
   "execution_count": 3,
   "id": "0827ad57",
   "metadata": {},
   "outputs": [
    {
     "data": {
      "text/plain": [
       "42"
      ]
     },
     "execution_count": 3,
     "metadata": {},
     "output_type": "execute_result"
    }
   ],
   "source": [
    "6 * 7"
   ]
  },
  {
   "cell_type": "code",
   "execution_count": 4,
   "id": "831dfa1a",
   "metadata": {},
   "outputs": [
    {
     "data": {
      "text/plain": [
       "42.0"
      ]
     },
     "execution_count": 4,
     "metadata": {},
     "output_type": "execute_result"
    }
   ],
   "source": [
    "84 / 2"
   ]
  },
  {
   "cell_type": "markdown",
   "id": "42d79b50",
   "metadata": {},
   "source": [
    "<b>integers</b> - represents numbers with no fractional or decimal part\n",
    "\n",
    "<b>floating-point numbers</b> represents integers and numbers with a decimal point"
   ]
  },
  {
   "cell_type": "code",
   "execution_count": 10,
   "id": "c4ad5400",
   "metadata": {},
   "outputs": [
    {
     "data": {
      "text/plain": [
       "42"
      ]
     },
     "execution_count": 10,
     "metadata": {},
     "output_type": "execute_result"
    }
   ],
   "source": [
    "84 // 2 #floor division (interger division) - it divides and only gives you the numbers before the decimal"
   ]
  },
  {
   "cell_type": "code",
   "execution_count": 9,
   "id": "1ed4c132",
   "metadata": {},
   "outputs": [
    {
     "data": {
      "text/plain": [
       "42"
      ]
     },
     "execution_count": 9,
     "metadata": {},
     "output_type": "execute_result"
    }
   ],
   "source": [
    "85 // 2"
   ]
  },
  {
   "cell_type": "code",
   "execution_count": 11,
   "id": "8b2c3ab8",
   "metadata": {},
   "outputs": [],
   "source": [
    "# exponents - when you raise a number to a power of another number"
   ]
  },
  {
   "cell_type": "code",
   "execution_count": 12,
   "id": "c42e910b",
   "metadata": {},
   "outputs": [
    {
     "data": {
      "text/plain": [
       "49"
      ]
     },
     "execution_count": 12,
     "metadata": {},
     "output_type": "execute_result"
    }
   ],
   "source": [
    "7 ** 2"
   ]
  },
  {
   "cell_type": "code",
   "execution_count": 13,
   "id": "91226146",
   "metadata": {},
   "outputs": [
    {
     "data": {
      "text/plain": [
       "129.64181424216494"
      ]
     },
     "execution_count": 13,
     "metadata": {},
     "output_type": "execute_result"
    }
   ],
   "source": [
    "7 ** 2.5"
   ]
  },
  {
   "cell_type": "code",
   "execution_count": null,
   "id": "9601db6a",
   "metadata": {},
   "outputs": [],
   "source": [
    "# 7 ^ 2 - in some languages you use a carrot for exponents Hai :3"
   ]
  },
  {
   "cell_type": "markdown",
   "id": "d76c9cb4",
   "metadata": {},
   "source": [
    "## 1.2 expressions"
   ]
  },
  {
   "cell_type": "markdown",
   "id": "ba4ca0d8",
   "metadata": {},
   "source": [
    "<b>expression</b> collection of operators and numbers"
   ]
  },
  {
   "cell_type": "code",
   "execution_count": 18,
   "id": "9dd921ca",
   "metadata": {},
   "outputs": [
    {
     "data": {
      "text/plain": [
       "42"
      ]
     },
     "execution_count": 18,
     "metadata": {},
     "output_type": "execute_result"
    }
   ],
   "source": [
    "6 + 6 ** 2"
   ]
  },
  {
   "cell_type": "code",
   "execution_count": 19,
   "id": "50e1350a",
   "metadata": {},
   "outputs": [
    {
     "data": {
      "text/plain": [
       "42"
      ]
     },
     "execution_count": 19,
     "metadata": {},
     "output_type": "execute_result"
    }
   ],
   "source": [
    "12 + 5 * 6"
   ]
  },
  {
   "cell_type": "code",
   "execution_count": 20,
   "id": "b62ef907",
   "metadata": {},
   "outputs": [
    {
     "data": {
      "text/plain": [
       "102"
      ]
     },
     "execution_count": 20,
     "metadata": {},
     "output_type": "execute_result"
    }
   ],
   "source": [
    "(12 + 5) * 6"
   ]
  },
  {
   "cell_type": "markdown",
   "id": "48fa50b9",
   "metadata": {},
   "source": [
    "## 1.3 arithmetic functions"
   ]
  },
  {
   "cell_type": "code",
   "execution_count": 21,
   "id": "5aae8066",
   "metadata": {},
   "outputs": [
    {
     "data": {
      "text/plain": [
       "42"
      ]
     },
     "execution_count": 21,
     "metadata": {},
     "output_type": "execute_result"
    }
   ],
   "source": [
    "round(42.4) # rounds the number"
   ]
  },
  {
   "cell_type": "code",
   "execution_count": 22,
   "id": "fec0602c",
   "metadata": {},
   "outputs": [
    {
     "data": {
      "text/plain": [
       "42"
      ]
     },
     "execution_count": 22,
     "metadata": {},
     "output_type": "execute_result"
    }
   ],
   "source": [
    "round(41.6)"
   ]
  },
  {
   "cell_type": "code",
   "execution_count": 23,
   "id": "42c647d5",
   "metadata": {},
   "outputs": [
    {
     "data": {
      "text/plain": [
       "42"
      ]
     },
     "execution_count": 23,
     "metadata": {},
     "output_type": "execute_result"
    }
   ],
   "source": [
    "round(41.5)"
   ]
  },
  {
   "cell_type": "code",
   "execution_count": 24,
   "id": "4ee4cd2d",
   "metadata": {},
   "outputs": [
    {
     "data": {
      "text/plain": [
       "42"
      ]
     },
     "execution_count": 24,
     "metadata": {},
     "output_type": "execute_result"
    }
   ],
   "source": [
    "# the abs function - computers the absolute vaule of a number\n",
    "abs(42)"
   ]
  },
  {
   "cell_type": "code",
   "execution_count": 25,
   "id": "13fa6ef0",
   "metadata": {},
   "outputs": [
    {
     "data": {
      "text/plain": [
       "42"
      ]
     },
     "execution_count": 25,
     "metadata": {},
     "output_type": "execute_result"
    }
   ],
   "source": [
    "abs(-42)"
   ]
  },
  {
   "cell_type": "code",
   "execution_count": 26,
   "id": "42edde46",
   "metadata": {},
   "outputs": [
    {
     "ename": "SyntaxError",
     "evalue": "invalid syntax (816474439.py, line 1)",
     "output_type": "error",
     "traceback": [
      "  \u001b[36mCell\u001b[39m\u001b[36m \u001b[39m\u001b[32mIn[26]\u001b[39m\u001b[32m, line 1\u001b[39m\n\u001b[31m    \u001b[39m\u001b[31mabs 42\u001b[39m\n        ^\n\u001b[31mSyntaxError\u001b[39m\u001b[31m:\u001b[39m invalid syntax\n"
     ]
    }
   ],
   "source": [
    "abs 42"
   ]
  },
  {
   "cell_type": "markdown",
   "id": "759a1bed",
   "metadata": {},
   "source": [
    "## 1.4 Strings"
   ]
  },
  {
   "cell_type": "markdown",
   "id": "5ea3c4cb",
   "metadata": {},
   "source": [
    "<b>strings</b> - in python or any other programming language, strings represent a sequnece of charaters contained in quotes (single or double)"
   ]
  },
  {
   "cell_type": "code",
   "execution_count": 30,
   "id": "95c40a7b",
   "metadata": {},
   "outputs": [
    {
     "data": {
      "text/plain": [
       "'hello'"
      ]
     },
     "execution_count": 30,
     "metadata": {},
     "output_type": "execute_result"
    }
   ],
   "source": [
    "'hello' # single quotes"
   ]
  },
  {
   "cell_type": "code",
   "execution_count": 29,
   "id": "581f5f0a",
   "metadata": {},
   "outputs": [
    {
     "data": {
      "text/plain": [
       "'world'"
      ]
     },
     "execution_count": 29,
     "metadata": {},
     "output_type": "execute_result"
    }
   ],
   "source": [
    "\"world\" # double quotes"
   ]
  },
  {
   "cell_type": "code",
   "execution_count": 31,
   "id": "63c9ffd7",
   "metadata": {},
   "outputs": [
    {
     "ename": "SyntaxError",
     "evalue": "unterminated string literal (detected at line 1) (3260505140.py, line 1)",
     "output_type": "error",
     "traceback": [
      "  \u001b[36mCell\u001b[39m\u001b[36m \u001b[39m\u001b[32mIn[31]\u001b[39m\u001b[32m, line 1\u001b[39m\n\u001b[31m    \u001b[39m\u001b[31m\"hello world'\u001b[39m\n    ^\n\u001b[31mSyntaxError\u001b[39m\u001b[31m:\u001b[39m unterminated string literal (detected at line 1)\n"
     ]
    }
   ],
   "source": [
    "\"hello world'"
   ]
  },
  {
   "cell_type": "code",
   "execution_count": 32,
   "id": "d2de0147",
   "metadata": {},
   "outputs": [
    {
     "data": {
      "text/plain": [
       "\"it's a small world\""
      ]
     },
     "execution_count": 32,
     "metadata": {},
     "output_type": "execute_result"
    }
   ],
   "source": [
    "\"it's a small world\""
   ]
  },
  {
   "cell_type": "code",
   "execution_count": 33,
   "id": "182a370d",
   "metadata": {},
   "outputs": [
    {
     "data": {
      "text/plain": [
       "\"it's a small world\""
      ]
     },
     "execution_count": 33,
     "metadata": {},
     "output_type": "execute_result"
    }
   ],
   "source": [
    "'it\\'s a small world'"
   ]
  },
  {
   "cell_type": "markdown",
   "id": "4d62e01d",
   "metadata": {},
   "source": [
    "### + operator with strings: \n",
    "\n",
    "<b>concatination</b> - taking muliple strings and putting them together"
   ]
  },
  {
   "cell_type": "code",
   "execution_count": 35,
   "id": "861bdbbb",
   "metadata": {},
   "outputs": [
    {
     "data": {
      "text/plain": [
       "\"well, it's a small world\""
      ]
     },
     "execution_count": 35,
     "metadata": {},
     "output_type": "execute_result"
    }
   ],
   "source": [
    "'well, ' + \"it's a small \" + 'world'"
   ]
  },
  {
   "cell_type": "markdown",
   "id": "f44318de",
   "metadata": {},
   "source": [
    "### * operator with strings\n",
    "\n",
    "makes multiple copies of string and concationates them together"
   ]
  },
  {
   "cell_type": "code",
   "execution_count": 36,
   "id": "02cb440b",
   "metadata": {},
   "outputs": [
    {
     "data": {
      "text/plain": [
       "'spam, spam, spam, spam, '"
      ]
     },
     "execution_count": 36,
     "metadata": {},
     "output_type": "execute_result"
    }
   ],
   "source": [
    "'spam, ' * 4"
   ]
  },
  {
   "cell_type": "markdown",
   "id": "29bb507c",
   "metadata": {},
   "source": [
    "### string functions"
   ]
  },
  {
   "cell_type": "code",
   "execution_count": 38,
   "id": "726bf364",
   "metadata": {},
   "outputs": [
    {
     "data": {
      "text/plain": [
       "4"
      ]
     },
     "execution_count": 38,
     "metadata": {},
     "output_type": "execute_result"
    }
   ],
   "source": [
    "len('spam')"
   ]
  },
  {
   "cell_type": "code",
   "execution_count": 39,
   "id": "bb24857f",
   "metadata": {},
   "outputs": [
    {
     "ename": "SyntaxError",
     "evalue": "invalid syntax (1123291945.py, line 1)",
     "output_type": "error",
     "traceback": [
      "  \u001b[36mCell\u001b[39m\u001b[36m \u001b[39m\u001b[32mIn[39]\u001b[39m\u001b[32m, line 1\u001b[39m\n\u001b[31m    \u001b[39m\u001b[31m`hello`\u001b[39m\n    ^\n\u001b[31mSyntaxError\u001b[39m\u001b[31m:\u001b[39m invalid syntax\n"
     ]
    }
   ],
   "source": [
    "`hello`"
   ]
  },
  {
   "cell_type": "code",
   "execution_count": null,
   "id": "f8929973",
   "metadata": {},
   "outputs": [],
   "source": []
  }
 ],
 "metadata": {
  "kernelspec": {
   "display_name": "Python 3",
   "language": "python",
   "name": "python3"
  },
  "language_info": {
   "codemirror_mode": {
    "name": "ipython",
    "version": 3
   },
   "file_extension": ".py",
   "mimetype": "text/x-python",
   "name": "python",
   "nbconvert_exporter": "python",
   "pygments_lexer": "ipython3",
   "version": "3.12.1"
  }
 },
 "nbformat": 4,
 "nbformat_minor": 5
}
