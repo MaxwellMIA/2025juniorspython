{
 "cells": [
  {
   "cell_type": "markdown",
   "id": "7f26a18f",
   "metadata": {},
   "source": [
    "# 2. Vars and statments"
   ]
  },
  {
   "cell_type": "markdown",
   "id": "37ef51ff",
   "metadata": {},
   "source": []
  }
 ],
 "metadata": {
  "language_info": {
   "name": "python"
  }
 },
 "nbformat": 4,
 "nbformat_minor": 5
}
